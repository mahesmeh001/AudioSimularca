{
 "cells": [
  {
   "cell_type": "code",
   "execution_count": null,
   "id": "initial_id",
   "metadata": {
    "collapsed": true
   },
   "outputs": [],
   "source": [
    "import wave\n",
    "import pyttsx3\n",
    "\n",
    "\n",
    "def sim_speak(text, filename):\n",
    "    \"\"\"\n",
    "    Converts text to speech and saves it to a file while handling the timing accurately.\n",
    "    \n",
    "    Args:\n",
    "        text (str): The text to convert to speech\n",
    "        filename (str): Output audio file path\n",
    "    \"\"\"\n",
    "    try:\n",
    "        engine = pyttsx3.init()\n",
    "        \n",
    "        # Get the speaking rate\n",
    "        rate = engine.getProperty(\"rate\")\n",
    "        \n",
    "        # Save speech to file\n",
    "        engine.save_to_file(text, filename)\n",
    "        engine.runAndWait()\n",
    "        \n",
    "        # Calculate more accurate duration using the audio file\n",
    "        try:\n",
    "            with wave.open(filename, 'rb') as audio_file:\n",
    "                frames = audio_file.getnframes()\n",
    "                rate = audio_file.getframerate()\n",
    "                duration = frames / float(rate)\n",
    "                return duration\n",
    "        except:\n",
    "            # Fallback duration calculation if file reading fails\n",
    "            words = len(text.split())\n",
    "            return words / (rate / 60)  # Approximate duration in seconds\n",
    "            \n",
    "    finally:\n",
    "        # Properly dispose of the engine\n",
    "        engine.stop()\n",
    "        \n",
    "    return 0  # Return 0 if everything fails\n"
   ]
  },
  {
   "cell_type": "code",
   "outputs": [],
   "source": [
    "from datetime import time\n",
    "\n",
    "# Usage example\n",
    "test_file = \"testFile.wav\"  # Changed to .wav format\n",
    "try:\n",
    "    duration = sim_speak(\"hello world\", test_file)\n",
    "    time.sleep(duration)  # Sleep happens outside the function\n",
    "except Exception as e:\n",
    "    print(f\"Error in speech synthesis: {e}\")"
   ],
   "metadata": {
    "collapsed": false
   },
   "id": "514d4999636dce47"
  }
 ],
 "metadata": {
  "kernelspec": {
   "display_name": "Python 3",
   "language": "python",
   "name": "python3"
  },
  "language_info": {
   "codemirror_mode": {
    "name": "ipython",
    "version": 2
   },
   "file_extension": ".py",
   "mimetype": "text/x-python",
   "name": "python",
   "nbconvert_exporter": "python",
   "pygments_lexer": "ipython2",
   "version": "2.7.6"
  }
 },
 "nbformat": 4,
 "nbformat_minor": 5
}
