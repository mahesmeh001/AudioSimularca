{
 "cells": [
  {
   "cell_type": "code",
   "outputs": [],
   "source": [
    "import wave\n",
    "import pyttsx3\n"
   ],
   "metadata": {
    "collapsed": false,
    "ExecuteTime": {
     "end_time": "2025-01-16T22:18:17.874253Z",
     "start_time": "2025-01-16T22:18:17.863807Z"
    }
   },
   "id": "75b9a992bdae36cd",
   "execution_count": 3
  },
  {
   "cell_type": "code",
   "outputs": [],
   "source": [
    "\n",
    "def sim_speak(text, filename):\n",
    "    \"\"\"\n",
    "    Converts text to speech and saves it to a file while handling the timing accurately.\n",
    "    \n",
    "    Args:\n",
    "        text (str): The text to convert to speech\n",
    "        filename (str): Output audio file path\n",
    "    \"\"\"\n",
    "    try:\n",
    "        engine = pyttsx3.init()\n",
    "        \n",
    "        # Get the speaking rate\n",
    "        rate = engine.getProperty(\"rate\")\n",
    "        \n",
    "        # Save speech to file\n",
    "        engine.save_to_file(text, filename)\n",
    "        engine.runAndWait()\n",
    "        \n",
    "        # Calculate more accurate duration using the audio file\n",
    "        try:\n",
    "            with wave.open(filename, 'rb') as audio_file:\n",
    "                frames = audio_file.getnframes()\n",
    "                rate = audio_file.getframerate()\n",
    "                duration = frames / float(rate)\n",
    "                return duration\n",
    "        except:\n",
    "            # Fallback duration calculation if file reading fails\n",
    "            words = len(text.split())\n",
    "            return words / (rate / 60)  # Approximate duration in seconds\n",
    "            \n",
    "    finally:\n",
    "        # Properly dispose of the engine\n",
    "        engine.stop()\n",
    "        \n",
    "    return 0  # Return 0 if everything fails\n"
   ],
   "metadata": {
    "collapsed": true
   },
   "id": "initial_id",
   "execution_count": 0
  },
  {
   "cell_type": "code",
   "outputs": [],
   "source": [
    "from datetime import time\n",
    "\n",
    "# Usage example\n",
    "test_file = \"testFile.wav\"  # Changed to .wav format\n",
    "try:\n",
    "    duration = sim_speak(\"hello world\", test_file)\n",
    "    time.sleep(duration)  # Sleep happens outside the function\n",
    "except Exception as e:\n",
    "    print(f\"Error in speech synthesis: {e}\")"
   ],
   "metadata": {
    "collapsed": false
   },
   "id": "514d4999636dce47"
  },
  {
   "cell_type": "markdown",
   "source": [
    "List of voices"
   ],
   "metadata": {
    "collapsed": false
   },
   "id": "51ea44fd4acb776d"
  },
  {
   "cell_type": "code",
   "outputs": [
    {
     "name": "stdout",
     "output_type": "stream",
     "text": [
      "com.apple.speech.synthesis.voice.Albert\n",
      "com.apple.voice.compact.it-IT.Alice\n",
      "com.apple.voice.compact.sv-SE.Alva\n",
      "com.apple.voice.compact.fr-CA.Amelie\n",
      "com.apple.voice.compact.ms-MY.Amira\n",
      "com.apple.voice.compact.de-DE.Anna\n",
      "com.apple.speech.synthesis.voice.BadNews\n",
      "com.apple.speech.synthesis.voice.Bahh\n",
      "com.apple.speech.synthesis.voice.Bells\n",
      "com.apple.speech.synthesis.voice.Boing\n",
      "com.apple.speech.synthesis.voice.Bubbles\n",
      "com.apple.voice.compact.he-IL.Carmit\n",
      "com.apple.speech.synthesis.voice.Cellos\n",
      "com.apple.voice.compact.id-ID.Damayanti\n",
      "com.apple.voice.compact.en-GB.Daniel\n",
      "com.apple.voice.compact.bg-BG.Daria\n",
      "com.apple.speech.synthesis.voice.Deranged\n",
      "com.apple.eloquence.de-DE.Eddy\n",
      "com.apple.eloquence.en-GB.Eddy\n",
      "com.apple.eloquence.en-US.Eddy\n",
      "com.apple.eloquence.es-ES.Eddy\n",
      "com.apple.eloquence.es-MX.Eddy\n",
      "com.apple.eloquence.fi-FI.Eddy\n",
      "com.apple.eloquence.fr-CA.Eddy\n",
      "com.apple.eloquence.fr-FR.Eddy\n",
      "com.apple.eloquence.it-IT.Eddy\n",
      "com.apple.eloquence.pt-BR.Eddy\n",
      "com.apple.voice.compact.nl-BE.Ellen\n",
      "com.apple.eloquence.de-DE.Flo\n",
      "com.apple.eloquence.en-GB.Flo\n",
      "com.apple.eloquence.en-US.Flo\n",
      "com.apple.eloquence.es-ES.Flo\n",
      "com.apple.eloquence.es-MX.Flo\n",
      "com.apple.eloquence.fi-FI.Flo\n",
      "com.apple.eloquence.fr-CA.Flo\n",
      "com.apple.eloquence.fr-FR.Flo\n",
      "com.apple.eloquence.it-IT.Flo\n",
      "com.apple.eloquence.pt-BR.Flo\n",
      "com.apple.speech.synthesis.voice.Fred\n",
      "com.apple.speech.synthesis.voice.GoodNews\n",
      "com.apple.eloquence.de-DE.Grandma\n",
      "com.apple.eloquence.en-GB.Grandma\n",
      "com.apple.eloquence.en-US.Grandma\n",
      "com.apple.eloquence.es-ES.Grandma\n",
      "com.apple.eloquence.es-MX.Grandma\n",
      "com.apple.eloquence.fi-FI.Grandma\n",
      "com.apple.eloquence.fr-CA.Grandma\n",
      "com.apple.eloquence.fr-FR.Grandma\n",
      "com.apple.eloquence.it-IT.Grandma\n",
      "com.apple.eloquence.pt-BR.Grandma\n",
      "com.apple.eloquence.de-DE.Grandpa\n",
      "com.apple.eloquence.en-GB.Grandpa\n",
      "com.apple.eloquence.en-US.Grandpa\n",
      "com.apple.eloquence.es-ES.Grandpa\n",
      "com.apple.eloquence.es-MX.Grandpa\n",
      "com.apple.eloquence.fi-FI.Grandpa\n",
      "com.apple.eloquence.fr-CA.Grandpa\n",
      "com.apple.eloquence.fr-FR.Grandpa\n",
      "com.apple.eloquence.it-IT.Grandpa\n",
      "com.apple.eloquence.pt-BR.Grandpa\n",
      "com.apple.speech.synthesis.voice.Hysterical\n",
      "com.apple.voice.compact.ro-RO.Ioana\n",
      "com.apple.eloquence.fr-FR.Jacques\n",
      "com.apple.voice.compact.pt-PT.Joana\n",
      "com.apple.speech.synthesis.voice.Junior\n",
      "com.apple.voice.compact.th-TH.Kanya\n",
      "com.apple.voice.compact.en-AU.Karen\n",
      "com.apple.speech.synthesis.voice.Kathy\n",
      "com.apple.voice.compact.ja-JP.Kyoko\n",
      "com.apple.voice.compact.hr-HR.Lana\n",
      "com.apple.voice.compact.sk-SK.Laura\n",
      "com.apple.voice.compact.hi-IN.Lekha\n",
      "com.apple.voice.compact.uk-UA.Lesya\n",
      "com.apple.voice.compact.vi-VN.Linh\n",
      "com.apple.voice.compact.pt-BR.Luciana\n",
      "com.apple.voice.compact.ar-001.Maged\n",
      "com.apple.voice.compact.hu-HU.Mariska\n",
      "com.apple.voice.compact.zh-TW.Meijia\n",
      "com.apple.voice.compact.el-GR.Melina\n",
      "com.apple.voice.compact.ru-RU.Milena\n",
      "com.apple.voice.compact.en-IE.Moira\n",
      "com.apple.voice.compact.es-ES.Monica\n",
      "com.apple.voice.compact.ca-ES.Montserrat\n",
      "com.apple.voice.compact.nb-NO.Nora\n",
      "com.apple.speech.synthesis.voice.Organ\n",
      "com.apple.voice.compact.es-MX.Paulina\n",
      "com.apple.speech.synthesis.voice.Princess\n",
      "com.apple.speech.synthesis.voice.Ralph\n",
      "com.apple.eloquence.de-DE.Reed\n",
      "com.apple.eloquence.en-GB.Reed\n",
      "com.apple.eloquence.en-US.Reed\n",
      "com.apple.eloquence.es-ES.Reed\n",
      "com.apple.eloquence.es-MX.Reed\n",
      "com.apple.eloquence.fi-FI.Reed\n",
      "com.apple.eloquence.fr-CA.Reed\n",
      "com.apple.eloquence.it-IT.Reed\n",
      "com.apple.eloquence.pt-BR.Reed\n",
      "com.apple.voice.compact.en-IN.Rishi\n",
      "com.apple.eloquence.de-DE.Rocko\n",
      "com.apple.eloquence.en-GB.Rocko\n",
      "com.apple.eloquence.en-US.Rocko\n",
      "com.apple.eloquence.es-ES.Rocko\n",
      "com.apple.eloquence.es-MX.Rocko\n",
      "com.apple.eloquence.fi-FI.Rocko\n",
      "com.apple.eloquence.fr-CA.Rocko\n",
      "com.apple.eloquence.fr-FR.Rocko\n",
      "com.apple.eloquence.it-IT.Rocko\n",
      "com.apple.eloquence.pt-BR.Rocko\n",
      "com.apple.voice.compact.en-US.Samantha\n",
      "com.apple.eloquence.de-DE.Sandy\n",
      "com.apple.eloquence.en-GB.Sandy\n",
      "com.apple.eloquence.en-US.Sandy\n",
      "com.apple.eloquence.es-ES.Sandy\n",
      "com.apple.eloquence.es-MX.Sandy\n",
      "com.apple.eloquence.fi-FI.Sandy\n",
      "com.apple.eloquence.fr-CA.Sandy\n",
      "com.apple.eloquence.fr-FR.Sandy\n",
      "com.apple.eloquence.it-IT.Sandy\n",
      "com.apple.eloquence.pt-BR.Sandy\n",
      "com.apple.voice.compact.da-DK.Sara\n",
      "com.apple.voice.compact.fi-FI.Satu\n",
      "com.apple.eloquence.de-DE.Shelley\n",
      "com.apple.eloquence.en-GB.Shelley\n",
      "com.apple.eloquence.en-US.Shelley\n",
      "com.apple.eloquence.es-ES.Shelley\n",
      "com.apple.eloquence.es-MX.Shelley\n",
      "com.apple.eloquence.fi-FI.Shelley\n",
      "com.apple.eloquence.fr-CA.Shelley\n",
      "com.apple.eloquence.fr-FR.Shelley\n",
      "com.apple.eloquence.it-IT.Shelley\n",
      "com.apple.eloquence.pt-BR.Shelley\n",
      "com.apple.voice.compact.zh-HK.Sinji\n",
      "com.apple.voice.compact.en-ZA.Tessa\n",
      "com.apple.voice.compact.fr-FR.Thomas\n",
      "com.apple.voice.compact.zh-CN.Tingting\n",
      "com.apple.speech.synthesis.voice.Trinoids\n",
      "com.apple.speech.synthesis.voice.Whisper\n",
      "com.apple.voice.compact.nl-NL.Xander\n",
      "com.apple.voice.compact.tr-TR.Yelda\n",
      "com.apple.voice.compact.ko-KR.Yuna\n",
      "com.apple.speech.synthesis.voice.Zarvox\n",
      "com.apple.voice.compact.pl-PL.Zosia\n",
      "com.apple.voice.compact.cs-CZ.Zuzana\n"
     ]
    }
   ],
   "source": [
    "engine = pyttsx3.init()\n",
    "voices = engine.getProperty('voices')\n",
    "for voice in voices:\n",
    "    print(voice.id)"
   ],
   "metadata": {
    "collapsed": false,
    "ExecuteTime": {
     "end_time": "2025-01-16T22:18:21.280749Z",
     "start_time": "2025-01-16T22:18:20.048672Z"
    }
   },
   "id": "714ea5b374180b93",
   "execution_count": 4
  },
  {
   "cell_type": "code",
   "outputs": [
    {
     "name": "stdout",
     "output_type": "stream",
     "text": [
      "Transcript saved to transcript.txt\n"
     ]
    }
   ],
   "source": [
    "# after conversation, save transcript\n",
    "file_path = 'transcript.txt'\n",
    "with open(file_path, \"w\") as file:\n",
    "    file.write(\"hi\")\n",
    "\n",
    "print(f\"Transcript saved to {file_path}\")"
   ],
   "metadata": {
    "collapsed": false,
    "ExecuteTime": {
     "end_time": "2025-01-16T22:38:42.724439Z",
     "start_time": "2025-01-16T22:38:42.720309Z"
    }
   },
   "id": "3f01414df77e1c89",
   "execution_count": 6
  },
  {
   "cell_type": "code",
   "outputs": [],
   "source": [],
   "metadata": {
    "collapsed": false
   },
   "id": "ee877ef33f5cbd8b"
  }
 ],
 "metadata": {
  "kernelspec": {
   "display_name": "Python 3",
   "language": "python",
   "name": "python3"
  },
  "language_info": {
   "codemirror_mode": {
    "name": "ipython",
    "version": 2
   },
   "file_extension": ".py",
   "mimetype": "text/x-python",
   "name": "python",
   "nbconvert_exporter": "python",
   "pygments_lexer": "ipython2",
   "version": "2.7.6"
  }
 },
 "nbformat": 4,
 "nbformat_minor": 5
}
